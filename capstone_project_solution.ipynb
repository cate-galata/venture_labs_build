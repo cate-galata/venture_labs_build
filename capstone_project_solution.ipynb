{
 "cells": [
  {
   "cell_type": "markdown",
   "metadata": {},
   "source": [
    "# Capstone Project Podcast Profiler\n",
    "\n",
    "This is the hands-on session for the capstone project of the workshop.\n",
    "\n",
    "Copyright (c) 2023 Michael Neumayr"
   ]
  },
  {
   "cell_type": "markdown",
   "metadata": {},
   "source": [
    "## Setup"
   ]
  },
  {
   "cell_type": "markdown",
   "metadata": {},
   "source": [
    "### 0. Set up the Colab in your drive"
   ]
  },
  {
   "cell_type": "markdown",
   "metadata": {},
   "source": [
    "- Load this Colab from Github\n",
    "- Run the first cell to install all required packages (this takes a moment)\n",
    "- During installation jump to section \"Set OpenAI API Key\" and put the key we provide you instead of \"PUT_YOUR_KEY_HERE\""
   ]
  },
  {
   "cell_type": "markdown",
   "metadata": {},
   "source": [
    "### 1. Required python packages"
   ]
  },
  {
   "cell_type": "code",
   "execution_count": null,
   "metadata": {},
   "outputs": [],
   "source": [
    "# install required packages; this may take some minutes; ignore dependency warnings it should work anyway\n",
    "%pip install openai\n",
    "%pip install langchain\n",
    "%pip install pypdf\n",
    "%pip install tiktoken\n",
    "%pip install pydub"
   ]
  },
  {
   "cell_type": "markdown",
   "metadata": {},
   "source": [
    "### 2. Load the workshop github"
   ]
  },
  {
   "cell_type": "code",
   "execution_count": null,
   "metadata": {},
   "outputs": [],
   "source": [
    "!git clone https://github.com/michaelnoi/venture_labs_build.git"
   ]
  },
  {
   "cell_type": "code",
   "execution_count": null,
   "metadata": {},
   "outputs": [],
   "source": [
    "%cd venture_labs_build\n",
    "!git checkout only_static_files"
   ]
  },
  {
   "cell_type": "markdown",
   "metadata": {},
   "source": [
    "### 3. OpenAI API key"
   ]
  },
  {
   "cell_type": "code",
   "execution_count": 1,
   "metadata": {},
   "outputs": [],
   "source": [
    "import os\n",
    "\n",
    "openai_api_key = os.getenv('OPENAI_API_KEY', 'PUT_YOUR_KEY_HERE')"
   ]
  },
  {
   "cell_type": "markdown",
   "metadata": {},
   "source": [
    "### 4. Optional: Connect to your Google Drive storage to upload your own documents later"
   ]
  },
  {
   "cell_type": "code",
   "execution_count": null,
   "metadata": {},
   "outputs": [],
   "source": [
    "# connect to your google drive storage\n",
    "from google.colab import drive\n",
    "\n",
    "drive.mount('/content/drive')"
   ]
  },
  {
   "cell_type": "markdown",
   "metadata": {},
   "source": [
    "## Capstone Project: Podcast Profiler"
   ]
  },
  {
   "cell_type": "code",
   "execution_count": 2,
   "metadata": {},
   "outputs": [],
   "source": [
    "import openai\n",
    "from langchain import OpenAI"
   ]
  },
  {
   "cell_type": "markdown",
   "metadata": {},
   "source": [
    "### 1. Load the podcast episodes as audio files"
   ]
  },
  {
   "cell_type": "markdown",
   "metadata": {},
   "source": [
    "We give you three podcast episodes from the Venture Labs' [Entrepreneurial Realities](https://open.spotify.com/show/1r0vpcIZomm9W7ozp3qWLV) podcast. We have three episodes with the titles being the names of the guests. Below you see the episodes and the respective .mp3 file size, which will be important when we will transcribe them."
   ]
  },
  {
   "cell_type": "markdown",
   "metadata": {},
   "source": [
    "<img src=\"./static/podcast_episode.png\" width=\"700\"/>\n"
   ]
  },
  {
   "cell_type": "markdown",
   "metadata": {},
   "source": [
    "Let's load an episode into the Colab:. As our transcription API will have a limit of 25 MB let's load the first that doesn't hit this limit:"
   ]
  },
  {
   "cell_type": "code",
   "execution_count": 3,
   "metadata": {},
   "outputs": [],
   "source": [
    "# the \"rb\" option is important to (r)ead the file in (b)inary format\n",
    "audio_file_alexa = open(\"static/Alexa Sinyachova.mp3\", \"rb\")"
   ]
  },
  {
   "cell_type": "markdown",
   "metadata": {},
   "source": [
    "### 2. Transcribe the podcast episodes"
   ]
  },
  {
   "cell_type": "code",
   "execution_count": 4,
   "metadata": {},
   "outputs": [],
   "source": [
    "# for transcription we use the Audio part of the openai library\n",
    "# running this may take a bit since we are uploading and processing half an hour of audio\n",
    "episode_alexa = openai.Audio.transcribe(\"whisper-1\", audio_file_alexa, api_key=openai_api_key)\n",
    "episode_alexa = episode_alexa[\"text\"]"
   ]
  },
  {
   "cell_type": "markdown",
   "metadata": {},
   "source": [
    "Let's see the result:"
   ]
  },
  {
   "cell_type": "code",
   "execution_count": 5,
   "metadata": {},
   "outputs": [
    {
     "name": "stdout",
     "output_type": "stream",
     "text": [
      "Good morning and welcome to Entrepreneurial Realities, the podcast of the Venture Lab of the Unique Technical University. My name is Antoine Leboyer and I'm the Managing Director of the Software and AI Tomb Venture Lab. We are joined today by Aleksa Sinyashova, Aleksa, forgive me for having problems with your name. That's just right. Aleksa is the founder of Moeco, she's advisor at Techstar, she's the partner in Ukraine in the Ukrainian Tech Venture Fund and she's also a mother. She's of course Ukrainian and we actually met last week when she moderated a panel in the Berlin Conference on the Future of Ukraine. I was unbelievably impressed by her and I'm very glad that she's accepted to come to Entrepreneurial Realities. Thank you, Antoine. Thanks for inviting me. Hi everyone and I would love to share my experience here today with you. So anything you'd like to know, just ask. Well, let's start by, can you introduce yourself, explain what you've done and how you've gone into startup? Yeah, you have introduced myself pretty correct. I am the co-founder of a startup. This is maybe takes most of the time before I got into the motherhood. I was a CEO and now I'm a head of strategy there. I'm all about the strategy and later when I'll tell you what is my background, you'll understand why I love the word strategy so much and why I'm a head of strategy right now. I'm also very interested in the venture world generally because I think that on one side there is a technology, innovation, startups, but then there is another side of this ecosystem which should support everything that is happening. So support means the money flow, the introductions, networking, finding big corporate clients. This is all on the venture side. So at some point when I've worked enough in the startups, I went to venture education at Berkeley when I was living in the US. I went to venture fund management education. This is an executive education, so it means that you already have had some experience before you go to this education. And I went there on purpose because I wanted to understand how the venture world works. And after that, I've been hired to a Hong Kong-based venture fund and a big company that is investing in digital assets. And after that, I became a partner of Ukrainian Tech Ventures, which I'm still taking some time to look at the Ukrainian startups, understand what is the value and help them relocate from Ukraine to Europe where I am right now. I'm in Berlin right now. So I don't know, maybe getting into the startups is a good topic for everyone. So everyone would be interested in how to actually start in this, right? Many of the students that listen to the podcast always want to understand how founders started. They are into the situation where they have to do the first step. So how did you start with Moico? What does Moico do? And can you tell us about how you, you know, it kicked off? Sure. So, first of all, I would like to say that it requires a lot of bravery to start a venture. This requires a lot of guts and walls to say, right? So you really have to be strong and to make this step towards the new thing. Because startup is new as an essence, right? You're creating something new that has not been there before. So it takes a lot of courage to just do that. So honestly, the story with me was a bit simpler, because if I knew that I would have to do this step, I'm not sure that I would do that. But I got into the startup world by chance, accidentally. I always wanted to work in the movie industry. I was fascinated by movies, by cinema, all this world was so fascinating. But I started working in a company that is selling the rights. So buying the rights from companies like Disney, Universal, and selling this for the Russian speaking audience in CIS. And the founder of the company, actually the client of the company that I've been working for started so-called Netflix in Israel. So it was a long time back then, the platform that was connecting the owners of the rights with the end users, of course, using some ads. And I was 20 years old, and I got into this venture. I was hired as an assistant first, then as a project manager, then as a head of strategy, actually. Because we got acquired by the company that was based in Russia, and I was relocated there. So I spent some time there. And that was the company called Rumbler. So it's very similar to Google. It's also the big search engine back then, and a big company that was acquiring startups. And then I realized, okay, this is so interesting. This is way more interesting than anything else I could dream about. This is like building startups is when there's nothing there, and you come in and you build something meaningful, build something what people want, what people need. So they use it, and you feel important. You feel like you have done something meaningful in your life and good for the humanity. This comes along with a lot of professions like doctors, or I don't know, a lot of professions have that. But with startups, as I said, you're creating something that was not there before. So this is what is important. You're creating, opening up the doors, opening up people's eyes to something new. Now Moeco is not in movies and not in searches. So how do you, how do you went from this world to the world of logistics and 5G trackers? Good question, Anton. This is really funny, because it's pivoting, so it's been pivoting so much that now I found myself in this logistics world and I was like, oh, how did I get there? But the story was that I, after working in this originally media startup, I've been working as a business developer for various startups, and I found myself doing a really good job in that. So when I met Moeco founder that was at the conference called CES, Consumer Electronics Show in Las Vegas. And I've been always visiting the show because I was living in the U.S. back then. And that was the best show you could go and see what's new. What are the new things that will hit the screens this year and people would be falling in love with these products, but it was all presented at CES. So this is cool. And I've met Moeco founder, he is German and he went there just to present his innovations. And he is, as I call him, not serial entrepreneur, but serial inventor. So he creates stuff. He is very much into hardware and software and algorithms to optimize things. And he came up with this technology that can source connectivity and use it to understand where things are to create like a digital world. And I was like, okay, this sounds really interesting, but I don't see the application. So how do you use it? Well, like, how do you make money? He's like, I don't know. It's just so cool. I just want to do that. And I said, okay, I'm good in how to turn the technology into the revenues. This is the ultimate goal of everyone. Why don't you want to make money on that? He's like, oh, I have so many inventions. I created this and that and that, and I have sold it. So I'm fine, but I just want to make something meaningful right now. So let's just digitize everything. And I'm like, okay, we can do that. But ultimately you need to keep it sustainable. You have to be profitable. There's no other way around it. He's like, okay, let's do that. So we have pivoted this towards asset tracking for corporate companies, and we have been working with big companies like Colgate, Daikin, Schlumberger. This is oil and gas company, and we have digitized their facility so they can see on the screen what is where, where are the people, where is the equipment, how long it has been in use. So it could optimize a lot of processes. And this is a regional version of Maiko. But then we have pivoted again, because this was a long process to understand how they could optimize their operations, because just to digitize everything is not enough. So we had a client back then, it's called DuPont Water Filters. They have ordered the same thing, but with the tracking of their goods from the manufacturing all the way to the client. And then there, my co-founder has applied all his knowledge about protecting the data, about sourcing good connectivity, about doing the real-time tracking, which is very unique right now, with a small tag to understand not only the location, but understand the conditions and monitor the conditions. This is our main thing. It's very interesting, because I looked at the website to prepare this, and I saw you have a video, and you track how many times they are bouncing to a parcel, which I thought was, you know, when you think of this, this opens quite a lot of applications to be able to validate the number of elements on supply chain, on safety, and so on. I thought it was actually pretty smart. What you've just said is something which is very close to what we try to do with the founders of the university, which is that the technology is something that is usually very strong. The challenge is how you do find the value and make it into money. Correct. This is the biggest challenge, and I think this is where education steps in, entrepreneurial education, because you need to have the mindset of entrepreneurial, you need to have the understanding of the market, so people need it. You have to be able to measure this in a very tangible things, not just like, oh, people need it. Good. Let's go. But like, who needs it? Where? Which geography? How much? How much, for example, what is the volume of the tracking for the goods that we need to produce, right? So we are in hardware as well, so we need to plan it very, very precisely. So we need to actually count everything, catch all the risks. So I think that it's important to, even if the founder has a technical background and can do the programming and algorithms, this is perfect. But I think it's either on the other side, there should be another co-founder who can apply this technology into the real sector, into the, as I say, the real economy, understanding how to sell it, how to make money on it, so to keep this technology up and running. So it's two-way street, or the founder that is technical can just also educate themselves, go to this education to understand how to better make this as an adventure, not just a technology, but the technology needs to become a venture. So this is used, this is sold, and this can bring more growth, right? So the more clients you have, the more people you can hire to develop it even better, even more. So this is like the very basic understanding of what needs to be done, can be within the incubator or accelerator, or a course which will be based at the university. This is very, very efficient, as I see. Now what you described, are these the activities which you have right now? So you are now head of strategy of Moeco, but you also have activities to support startup. Is this, are these the sort of things that you are currently focusing on and helping startupers? Yes, Antoine, this is for me very important, not just to work on my venture, but also support other founders. Because when you have enough experience and you see this as easy thing, I understand that for a lot of people this is not easy. This is something that you need to learn, apply, see if it works, then maybe change again, so it's not easy. So I have created this program, so to say, this is something that I have started as an advisor for startups, and I've worked out this several times, and then became a startup incubator advisor. So what I do is I step into the cohort, and I just see what are the challenges that founders are facing, and I'm using my experience to help them. Same thing in Ukrainian tech ventures, when the war started, I just saw how hard it was for companies to immediately relocate, to find new markets, to find new opportunities, unfortunately to lose people and to hire new people, because they need to have their business up and running. So I was eager to help, and I partnered with other founders, actually, these are all ex-founders that have decided to come together and help Ukrainian companies to relocate and develop their business in various territories. I'm responsible for Europe, because I'm in Berlin, my other co-founders, partners at Ukrainian tech ventures are in London, and another one is spending most of his time in Saudi Arabia. So this is another market and a lot of opportunities right now. So we're splitting our responsibilities. So can you give more element, explain what's happening, but also explain to the listeners how they can contribute and help? This is, as we just discussed before we started the recording, this is everything that people can do, even though these little things of just donating, I don't know, one euro to this organization is already good. But also just understanding what is happening in the Ukraine, the awareness is already also a big thing, in my opinion. I also encourage people and especially students, if they have the time and the opportunity to help, I would look into what are the actions that I can do, right? Maybe I can create an algorithm that will help to, I don't know, improve somehow the people's lives right now, too. I know that there are a lot of students and founders that have created like mapping of who is where right now after the war or something like that. The technology always helps. But also just, I think, asking the neighbors of the refugees that just arrived if they need any help. I think this is the strongest because this is very down to earth and this is very encouraging for people to see that they actually are welcome, that people are eager to help. And believe me, this is like a karma thing. This will return and everything will be pretty, pretty good within the few years. People just need to adopt. People just need to get rid of the fears that they had, that they need to run somewhere very quickly. I have a lot of friends and my family who had to do that. So they actually just need some support as humans. That's basically it. Now when the first time you and I discussed your little daughter was with you, she was absolutely charming. How has this changed your life? And by the way, given that this is going to be a podcast, you should see Alexa smiling when I'm asking her a question on her daughter. How important was this to make sure that you could become a mother as well as doing all these activities? Can you talk about this? Sure. Yes. I'm smiling all the time when I think about Sofia, my little one. She's only four months old, so she's really cutie, this little baby. And there is a lot, again, of courage to combine these roles of a mother and CEO. That time back then when I got pregnant, I was CEO of the company. So it was a bit scary for me how to combine these roles. That is why I think it's important to have a co-founder, because the co-founder can step in and say, okay, let's deal with it together. This is very important. And now we're sharing the responsibilities, but also these responsibilities are very focused. So I think for any kind of startup, without even being mothers, fathers, this is very important from the very beginning to establish what are the responsibilities of one co-founder and another one. So they do not overlap too much, because then it's hard to value who's doing what and who is good in something and who is not good in something, because you just do everything. So this is another advice, just I'm trying to be more mindful with the audience. And basically, I can translate your question as not just like the mother versus the CEO, but also the work-life balance question for everyone, like how do you combine parties and friends and family and children and everything, I don't know, brothers, sisters with the work, the mission, the vision that you have, that you want to spend a lot of time at work. And I totally understand that. And I know, I'm sure everyone has heard about the term burnout. And this happens when actually you want to spend a lot of time at work. And back then, I was spending, I think, from 12 to 14 hours per day just working. That was super fascinating, it was so cool, and I loved it. But honestly, I just, I couldn't observe it that much, I couldn't be aware of it that much, but I just, what was just burned out, because I was just tired. This is where all humans, we got tired, this is normal. And at some point, I've just found myself being not that efficient as before. And I was asking myself, what can I do right now? And for me, it was very important to also shift my focus towards family and understanding what can I do. And honestly, when the war started, I was questioning what are my values and what do I want to do in my life besides my work, because I was already good at what I was doing. I was already doing my job as much as I could, 12 hours a day, this was my maximum. But how do I balance it out? And when I sat down and wrote my values together with my partner, we had a list. And for him, it was also very important to be a founder, because he's a founder of the agency. And we just sat down, but also there were other things. And we started to discuss like, how do we bring more attention toward other things? This is how we got pregnant, basically, because we wanted to also do something meaningful on the other side. And I think that spending time with friends is also very meaningful. Spending time with parents is also very meaningful, because the time runs so fast, and we never know. Let me ask you the usual last questions. Do you have any advice for our listeners? I think I do have a lot of advice for our listeners. So I will have to be picky and just choose maybe one, so we don't spend that much time at the end. I would point my finger towards my US experience and say that in the US, I was very lucky to be there in the right time, in the right place, when the startup world was booming, Silicon Valley was booming, everything was so hot and everything. But then corona started and it all dropped down. But the only advice that I got from the Silicon Valley ecosystem, and that I'm missing here in Germany, that's something I want to change together with the future founders, meaning students, is to fail quickly, is to not be ashamed or afraid or hesitant to start the venture. Because the sooner you started, the sooner you can fail and it's okay, the sooner you will start the new one, which is right for you. I think that's being courageous, being very open towards making mistakes and admit them at the right time and say, okay, this is not working out, what else can we do? We close this one, we start the other one, or we pivot, which is the most successful startups are always going through the pivots. So don't be afraid to think outside the box, don't be afraid to admit that something is not working out and don't be afraid to do something else instead, so you're not losing your time. Wonderful, Alexa, thank you very, very much. You're welcome. And if you have any further questions, please add me on LinkedIn and I would be happy to chat as much as I can. I would be happy to share my insights, events that I'm going to, so maybe you would like to follow or meet me there, or things I'm reading about, maybe you'll also be interested, or things how to help you gain, I'm also posting there. So everything is there on LinkedIn. Entrepreneuriality is available on major podcast platform where you can find other inspiring presentations. Do subscribe if you like this podcast and want to hear more, do give us a rating, let your friend know about it, and we look forward to having you for more Entrepreneurial realities. And this is a wrap.\n",
      "Number of tokens: 4319\n"
     ]
    }
   ],
   "source": [
    "print(episode_alexa)\n",
    "\n",
    "# load an LLM just see how many tokens are in the file\n",
    "llm = OpenAI(model_name=\"gpt-3.5-turbo-instruct\", openai_api_key=openai_api_key)\n",
    "\n",
    "print(\"Number of tokens:\", llm.get_num_tokens(episode_alexa))"
   ]
  },
  {
   "cell_type": "markdown",
   "metadata": {},
   "source": [
    "Now we have the transcription of the first episode. Watch out that the transcription exceeds the token limit of the language models we used to summarize text. We will need to split up the text later."
   ]
  },
  {
   "cell_type": "markdown",
   "metadata": {},
   "source": [
    "<div class=\"alert\" style=\"background-color:#151E35; color:#A450E6\">\n",
    "    🎯 <b>TODO</b>\n",
    "  <p>Summarize the episode with <b>Tom Eisenmann</b> on your own now and store it into the variable <code style=\"color:#A450E6\">episode_tom</code>! Don't summarize the episode with <b>Michael Eckhardt</b> yet as it will hit the upload limit of the Whisper API.</p>\n",
    "</div>"
   ]
  },
  {
   "cell_type": "code",
   "execution_count": 6,
   "metadata": {},
   "outputs": [],
   "source": [
    "### TODO: open the episode\n",
    "audio_file_tom = open(\"./static/Tom Eisenmann.mp3\", \"rb\")"
   ]
  },
  {
   "cell_type": "code",
   "execution_count": 7,
   "metadata": {},
   "outputs": [
    {
     "name": "stdout",
     "output_type": "stream",
     "text": [
      "Number of tokens: 5109\n"
     ]
    }
   ],
   "source": [
    "### TODO: do the transcription\n",
    "episode_tom = openai.Audio.transcribe(\"whisper-1\", audio_file_tom, api_key=openai_api_key)\n",
    "episode_tom = episode_tom[\"text\"]\n",
    "\n",
    "\n",
    "# close the file again so that we free up system resources\n",
    "audio_file_tom.close()\n",
    "print(\"Number of tokens:\", llm.get_num_tokens(episode_tom))"
   ]
  },
  {
   "cell_type": "markdown",
   "metadata": {},
   "source": [
    "### 3. Handle too large audio file"
   ]
  },
  {
   "cell_type": "markdown",
   "metadata": {},
   "source": [
    "Great! For the episode with Michael Eckhardt, we need to find a different solution since the upload limit for the whisper API is 25 MB and the episode has almost 30 MB. \n",
    "\n",
    "Let's try to split the episode into two parts and transcirbe them separately. Then combine the strings again to get the full episode. Let's see how this works:"
   ]
  },
  {
   "cell_type": "code",
   "execution_count": 8,
   "metadata": {},
   "outputs": [
    {
     "data": {
      "text/plain": [
       "<_io.BufferedRandom name='./static/Michael_Eckhardt_2.mp3'>"
      ]
     },
     "execution_count": 8,
     "metadata": {},
     "output_type": "execute_result"
    }
   ],
   "source": [
    "# we will use this package to segment our audio file into two parts and store them separately\n",
    "from pydub import AudioSegment\n",
    "\n",
    "episode_michael = AudioSegment.from_mp3(\"./static/Michael Eckhardt.mp3\")\n",
    "\n",
    "# PyDub handles time in milliseconds\n",
    "fifteen_minutes = 15 * 60 * 1000\n",
    "\n",
    "first_part_episode_michael = episode_michael[:fifteen_minutes]\n",
    "second_part_episode_michael = episode_michael[fifteen_minutes:]\n",
    "\n",
    "# save both parts of the episode into the static/ folder\n",
    "first_part_episode_michael.export(\"./static/Michael_Eckhardt_1.mp3\", format=\"mp3\")\n",
    "second_part_episode_michael.export(\"./static/Michael_Eckhardt_2.mp3\", format=\"mp3\")"
   ]
  },
  {
   "cell_type": "markdown",
   "metadata": {},
   "source": [
    "<div class=\"alert\" style=\"background-color:#151E35; color:#A450E6\">\n",
    "    🎯 <b>TODO</b>\n",
    "  <p>Ok, now transcribe the both parts and concatenate the transcriptions to have the full episode.</p>\n",
    "</div>"
   ]
  },
  {
   "cell_type": "code",
   "execution_count": 9,
   "metadata": {},
   "outputs": [],
   "source": [
    "### TODO: load both parts of the episode\n",
    "audio_first_part = open(\"./static/Michael_Eckhardt_1.mp3\", \"rb\")\n",
    "audio_second_part = open(\"./static/Michael_Eckhardt_2.mp3\", \"rb\")\n",
    "\n",
    "### TODO: do the transcription\n",
    "first_part_episode_michael = openai.Audio.transcribe(\"whisper-1\", audio_first_part, api_key=openai_api_key)\n",
    "second_part_episode_michael = openai.Audio.transcribe(\"whisper-1\", audio_second_part, api_key=openai_api_key)\n",
    "\n",
    "# close the files again so that we free up system resources\n",
    "audio_first_part.close()\n",
    "audio_second_part.close()"
   ]
  },
  {
   "cell_type": "code",
   "execution_count": 10,
   "metadata": {},
   "outputs": [
    {
     "name": "stdout",
     "output_type": "stream",
     "text": [
      "Number of tokens: 7797\n"
     ]
    }
   ],
   "source": [
    "# combine the two parts and see how many tokens we have this time\n",
    "episode_michael =  first_part_episode_michael[\"text\"] + second_part_episode_michael[\"text\"]\n",
    "\n",
    "print(\"Number of tokens:\", llm.get_num_tokens(episode_michael))"
   ]
  },
  {
   "cell_type": "markdown",
   "metadata": {},
   "source": [
    "### 4. Split the transcribed podcast episodes into chunks"
   ]
  },
  {
   "cell_type": "markdown",
   "metadata": {},
   "source": [
    "For the TODOs from here refer back to the text_summarization.ipynb notebook."
   ]
  },
  {
   "cell_type": "code",
   "execution_count": 11,
   "metadata": {},
   "outputs": [],
   "source": [
    "from langchain.text_splitter import RecursiveCharacterTextSplitter"
   ]
  },
  {
   "cell_type": "markdown",
   "metadata": {},
   "source": [
    "<div class=\"alert\" style=\"background-color:#151E35; color:#A450E6\">\n",
    "    🎯 <b>TODO</b>\n",
    "  <p>Split all three episodes into chunks of size 8000 (characters ~ 2000 tokens ~ 1500 words) with an overlap of 500 characters. </p>\n",
    "  <p>Go back to the summarization notebook if you need to.</p>\n",
    "</div>\n"
   ]
  },
  {
   "cell_type": "code",
   "execution_count": 12,
   "metadata": {},
   "outputs": [],
   "source": [
    "### TODO: initialize the text splitter\n",
    "text_splitter = RecursiveCharacterTextSplitter(chunk_size=8000, chunk_overlap=500)"
   ]
  },
  {
   "cell_type": "code",
   "execution_count": 13,
   "metadata": {},
   "outputs": [],
   "source": [
    "### TODO: split each episode string into chunks with the splitter\n",
    "chunks_alexa = text_splitter.create_documents([episode_alexa])\n",
    "chunks_tom = text_splitter.create_documents([episode_tom])\n",
    "chunks_michael = text_splitter.create_documents([episode_michael])"
   ]
  },
  {
   "cell_type": "code",
   "execution_count": 14,
   "metadata": {},
   "outputs": [
    {
     "name": "stdout",
     "output_type": "stream",
     "text": [
      "Alexa's episode has 3 chunks.\n",
      "Tom's episode has 4 chunks.\n",
      "Michael's episode has 5 chunks.\n"
     ]
    }
   ],
   "source": [
    "print(f\"Alexa's episode has {len(chunks_alexa)} chunks.\")\n",
    "print(f\"Tom's episode has {len(chunks_tom)} chunks.\")\n",
    "print(f\"Michael's episode has {len(chunks_michael)} chunks.\")"
   ]
  },
  {
   "cell_type": "markdown",
   "metadata": {},
   "source": [
    "### 5. Summarize the podcast episodes"
   ]
  },
  {
   "cell_type": "code",
   "execution_count": 27,
   "metadata": {},
   "outputs": [],
   "source": [
    "from langchain.chains.summarize import load_summarize_chain\n",
    "from langchain.chat_models import ChatOpenAI\n",
    "from langchain.schema import HumanMessage\n",
    "\n",
    "# define our llm for summarization\n",
    "chat = ChatOpenAI(openai_api_key=openai_api_key)"
   ]
  },
  {
   "cell_type": "markdown",
   "metadata": {},
   "source": [
    "<div class=\"alert\" style=\"background-color:#151E35; color:#A450E6\">\n",
    "    🎯 <b>TODO</b>\n",
    "  <p>Now summarize all three chunked episodes with the map_reduce technique with the pre-defined chain like in the summarization hands-on.</p>\n",
    "</div>"
   ]
  },
  {
   "cell_type": "code",
   "execution_count": 28,
   "metadata": {},
   "outputs": [],
   "source": [
    "### TODO: initialize the summarization chain as in the summarization hands-on\n",
    "\n",
    "summarizer = load_summarize_chain(llm=chat, chain_type=\"map_reduce\")"
   ]
  },
  {
   "cell_type": "code",
   "execution_count": 29,
   "metadata": {},
   "outputs": [],
   "source": [
    "### TODO: summarize each episode, remember that the .create_documents() needs the chunks in a list as input: [chunks]\n",
    "summary_alexa = summarizer.invoke(chunks_alexa)\n",
    "summary_tom = summarizer.invoke(chunks_tom)\n",
    "summary_michael = summarizer.invoke(chunks_michael)"
   ]
  },
  {
   "cell_type": "code",
   "execution_count": 30,
   "metadata": {},
   "outputs": [
    {
     "name": "stdout",
     "output_type": "stream",
     "text": [
      "In this podcast episode, Aleksa Sinyashova, the founder of Moeco, discusses her background in startups and venture capital, as well as her involvement in the logistics and 5G tracker industry. She highlights Moeco's focus on optimizing operations for corporate clients and the value they provide through digitization. The speaker also emphasizes the importance of entrepreneurial education and finding value in technology, as well as their support for other founders and Ukrainian companies. They discuss the challenges of being a CEO and a mother, the importance of establishing clear responsibilities, and balancing work and personal life. The speaker encourages listeners to prioritize their values, be open to new ventures or pivoting, and to be courageous and think outside the box. They invite listeners to connect on LinkedIn for further discussions.\n",
      "The passage emphasizes the importance of understanding and learning from failures in entrepreneurship. It discusses the need for transitioning from generalists to specialists as a company grows and the dangers of rushing into building a product without proper research. It highlights the significance of catering to both early adopters and mainstream customers. The summary also mentions the challenges of failing as an entrepreneur and the importance of self-reflection and learning from mistakes. It recommends books such as \"Why Startups Fail,\" \"Crossing the Chasm,\" and \"Lean Startup\" as valuable resources for entrepreneurs.\n",
      "In this podcast episode, Antoine Leboyer interviews Michael Eckhart about technology adoption life cycles. They discuss the stages of the life cycle and the importance of working with visionaries in the early market. They emphasize the need for proof of concept and a track record in adopting new technologies. The speaker also discusses the concept of crossing the chasm, highlighting the importance of solving specific business pain points. They emphasize the importance of understanding customer needs and building a whole product. The speaker advises against relying on luck and emphasizes the value of structure and decision-making in marketing and pricing. They also discuss the importance of focusing on customer needs and tailoring the product accordingly. The podcast concludes with well wishes and encouragement for the listener's ventures.\n"
     ]
    }
   ],
   "source": [
    "# Remember to get the output_text. It's sometimes helpful to strip the text of leading and trailing whitespace.\n",
    "print(summary_alexa[\"output_text\"].strip())\n",
    "print(summary_tom[\"output_text\"].strip())\n",
    "print(summary_michael[\"output_text\"].strip())"
   ]
  },
  {
   "cell_type": "markdown",
   "metadata": {},
   "source": [
    "### 6. Make a cool Podcast profile"
   ]
  },
  {
   "cell_type": "markdown",
   "metadata": {},
   "source": [
    "<div class=\"alert\" style=\"background-color:#151E35; color:#A450E6\">\n",
    "    🎯 <b>TODO</b>\n",
    "  <p>Design some smart prompts to get more information (featured speakers, topic, tags, mood, etc.) from the summary or the first chunk (beginning of the podcast) as data and then build a cool podcast profile.</p>\n",
    "</div>\n"
   ]
  },
  {
   "cell_type": "code",
   "execution_count": 31,
   "metadata": {},
   "outputs": [],
   "source": [
    "### TODO: make interesting prompts for the podcast episode profile\n",
    "\n",
    "def get_tags(chat_model, episode_summary):\n",
    "    \"\"\"Extracts tags from the episode summary\"\"\"\n",
    "    tag_prompt = \"Give me the most important single-word tags that describe this podcast episode. Try to avoid repetition and too general tags and limit the number of tags to 5: \"\n",
    "    ask_summary = tag_prompt + episode_summary\n",
    "\n",
    "    tags = chat([HumanMessage(content=ask_summary)])\n",
    "    return tags"
   ]
  },
  {
   "cell_type": "code",
   "execution_count": 32,
   "metadata": {},
   "outputs": [
    {
     "name": "stdout",
     "output_type": "stream",
     "text": [
      "Tags for Alexa's episode:podcast episode, founder, startups, venture capital, logistics, 5G tracker\n",
      "Tags for Tom's episode:failures, entrepreneurship, transitioning, research, customers\n",
      "Tags for Michael's episode:technology adoption, life cycles, visionaries, proof of concept, crossing the chasm\n"
     ]
    }
   ],
   "source": [
    "print(\"Tags for Alexa's episode:\" + get_tags(chat, summary_alexa[\"output_text\"]).content)\n",
    "print(\"Tags for Tom's episode:\" + get_tags(chat, summary_tom[\"output_text\"]).content)\n",
    "print(\"Tags for Michael's episode:\" + get_tags(chat, summary_michael[\"output_text\"]).content)"
   ]
  }
 ],
 "metadata": {
  "kernelspec": {
   "display_name": "workshops",
   "language": "python",
   "name": "python3"
  },
  "language_info": {
   "codemirror_mode": {
    "name": "ipython",
    "version": 3
   },
   "file_extension": ".py",
   "mimetype": "text/x-python",
   "name": "python",
   "nbconvert_exporter": "python",
   "pygments_lexer": "ipython3",
   "version": "3.10.10"
  }
 },
 "nbformat": 4,
 "nbformat_minor": 2
}
