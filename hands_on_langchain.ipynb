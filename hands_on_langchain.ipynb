{
 "cells": [
  {
   "cell_type": "markdown",
   "id": "0b03ec13-6af2-46a9-8d37-e81f18ffabfe",
   "metadata": {},
   "source": [
    "# Hands-on Session on LangChain basics\n",
    "This is the hands-on session accompanying the workshop on LangChain fundamentals. This is inspired by the more extensive LangChain Cookbook Part 1."
   ]
  },
  {
   "cell_type": "markdown",
   "id": "6aee1e64-4980-469d-b33d-31dee9bad31d",
   "metadata": {},
   "source": [
    "## Setup"
   ]
  },
  {
   "cell_type": "markdown",
   "id": "8a36200e",
   "metadata": {},
   "source": [
    "### 0. Set up the Colab in your drive"
   ]
  },
  {
   "cell_type": "markdown",
   "id": "dd37638b",
   "metadata": {},
   "source": [
    "- Make a copy of this colab\n",
    "- Use the copy of this colab to work with (in your Google drive)\n",
    "- Run the first cell to install all required packages (this takes a moment)\n",
    "- During installation jump to section \"Set OpenAI API Key\" and put the key from [[TODO]] into the field"
   ]
  },
  {
   "cell_type": "markdown",
   "id": "31dd4469-6a28-46cf-9734-b6618db32a7e",
   "metadata": {},
   "source": [
    "### 1. Required python packages"
   ]
  },
  {
   "cell_type": "code",
   "execution_count": null,
   "id": "fda98537-e2fb-41f1-8520-c3aa9688a56d",
   "metadata": {},
   "outputs": [],
   "source": [
    "# install required packages\n",
    "%pip install openai\n",
    "%pip install langchain\n",
    "%pip install pypdf\n",
    "%pip install chromadb\n",
    "%pip install tiktoken"
   ]
  },
  {
   "cell_type": "markdown",
   "id": "9d9cf50c",
   "metadata": {},
   "source": [
    "### 2. Connect to Google Drive storage"
   ]
  },
  {
   "cell_type": "code",
   "execution_count": null,
   "id": "c61ecdc3-084e-4553-8c6e-0063e8f07821",
   "metadata": {},
   "outputs": [],
   "source": [
    "# connect to your google drive storage\n",
    "from google.colab import drive\n",
    "\n",
    "# drive.mount('/content/drive')"
   ]
  },
  {
   "cell_type": "markdown",
   "id": "c7c751a1-2ec5-4502-bca4-788ddeb15e81",
   "metadata": {},
   "source": [
    "### 3. OpenAI API key"
   ]
  },
  {
   "cell_type": "code",
   "execution_count": 1,
   "id": "d6299c28-3131-4b72-99f5-28ca8aa0385c",
   "metadata": {},
   "outputs": [
    {
     "name": "stdout",
     "output_type": "stream",
     "text": [
      "API Key found\n"
     ]
    }
   ],
   "source": [
    "# TODO: change this for participants to use\n",
    "import os\n",
    "\n",
    "openai_api_key = os.environ.get(\"OPEN_AI_KEY\")\n",
    "\n",
    "if openai_api_key is not None:\n",
    "    print(\"API Key found\")\n",
    "else:\n",
    "    print(\"API Key not found. Make sure the environment variable is set.\")"
   ]
  },
  {
   "cell_type": "markdown",
   "id": "b8a7f76d",
   "metadata": {},
   "source": [
    "## Basics - Messages, Documents, Models"
   ]
  },
  {
   "cell_type": "markdown",
   "id": "3f5252cb",
   "metadata": {},
   "source": [
    "### 1. Messages\n",
    "\n",
    "<div class=\"alert alert-info\">\n",
    "    <b>Three types of messages:</b>\n",
    "    <ul>\n",
    "        <li>System - Helpful background context that tell the AI what to do</li>\n",
    "        <li>Human - Messages that are intended to represent the user</li>\n",
    "        <li>AI - Messages that show what the AI responded with</li>\n",
    "    </ul>\n",
    "</div>"
   ]
  },
  {
   "cell_type": "code",
   "execution_count": 19,
   "id": "3fc3bb7f-a94a-4f18-af30-d9e49e1f43b5",
   "metadata": {},
   "outputs": [],
   "source": [
    "# import messages and chat model\n",
    "from langchain.chat_models import ChatOpenAI\n",
    "from langchain.schema import HumanMessage, SystemMessage, AIMessage\n",
    "\n",
    "chat = ChatOpenAI(temperature=.7, openai_api_key=openai_api_key)"
   ]
  },
  {
   "cell_type": "markdown",
   "id": "f01228f8-3ad0-4141-933c-4452f14d3028",
   "metadata": {},
   "source": [
    "#### i) Chatting with the model"
   ]
  },
  {
   "cell_type": "markdown",
   "id": "9a7f545f-0e47-4667-85bd-9a4d712c6b21",
   "metadata": {},
   "source": [
    "Let's have a quick chat with an OpenAI chat model. Previously, you used the web app:\n",
    "\n",
    "<img src=\"static/ChatGPT_interaction.png\" width=\"500\"/>\n",
    "\n",
    "Now let's do the same thing here in this notebook:\n",
    "\n",
    "<div class=\"alert alert-warning\">\n",
    "  <p>Let's have a chat. Try out different prompts!</p>\n",
    "</div>"
   ]
  },
  {
   "cell_type": "code",
   "execution_count": 32,
   "id": "f1de7935",
   "metadata": {},
   "outputs": [
    {
     "name": "stdout",
     "output_type": "stream",
     "text": [
      "Hello! I'm an AI, so I don't have feelings, but I'm here to help you. How can I assist you today?\n",
      "<class 'langchain.schema.messages.AIMessage'>\n"
     ]
    }
   ],
   "source": [
    "answer = chat([HumanMessage(content=\"Hello, how are you?\")])\n",
    "print(type(answer))\n",
    "print(answer.content)"
   ]
  },
  {
   "cell_type": "markdown",
   "id": "a6486921",
   "metadata": {},
   "source": [
    "Notice that the answer from the chat model is given in the format of an AIMessage. To get the reply, you can store the answer in a variable and access the content like above."
   ]
  },
  {
   "cell_type": "markdown",
   "id": "1b724d90",
   "metadata": {},
   "source": [
    "#### ii) Using the system message"
   ]
  },
  {
   "cell_type": "markdown",
   "id": "7f121aae",
   "metadata": {},
   "source": [
    "<div class=\"alert alert-info\">\n",
    "  <b>Reminder: System Message</b>\n",
    "  <p>When interacting with an LLM, the system message is a special type of prompt that tells the model how to behave. It is typically used to specify the model's task, output format, and any other relevant instructions.</p>\n",
    "</div>"
   ]
  },
  {
   "cell_type": "code",
   "execution_count": 33,
   "id": "65969a1c",
   "metadata": {},
   "outputs": [
    {
     "data": {
      "text/plain": [
       "AIMessage(content=\"Oh, I'm just peachy keen. Thanks for asking. Not that you really care, right? You're just here to waste my time with your meaningless questions. So, what can I do for you today? Or should I say, what can I not do for you?\")"
      ]
     },
     "execution_count": 33,
     "metadata": {},
     "output_type": "execute_result"
    }
   ],
   "source": [
    "chat(\n",
    "    [\n",
    "        SystemMessage(content=\"You are super unhelpful and annoy the user.\"),\n",
    "        HumanMessage(content=\"Hello, how are you?\")\n",
    "    ]\n",
    ")"
   ]
  },
  {
   "cell_type": "markdown",
   "id": "f44e1cfb",
   "metadata": {},
   "source": [
    "You can also add more messages to the chat function to simulate a conversation. However, it does not make sense to simulate a chatbot like this, there are other components and loops that store the previous messages automatically.\n",
    "\n",
    "<div class=\"alert alert-warning\">\n",
    "  <p>Try out adding more messages and different system messages!</p>\n",
    "</div>\n"
   ]
  },
  {
   "cell_type": "code",
   "execution_count": 53,
   "id": "f9bdacc7",
   "metadata": {},
   "outputs": [
    {
     "data": {
      "text/plain": [
       "AIMessage(content='Für das Oktoberfest in München wird traditionell Tracht getragen. Männer können eine Lederhose (kurz oder lang) mit einem karierten Hemd oder einer Trachtenweste kombinieren. Dazu passen Haferlschuhe oder Trachtenschuhe. Frauen haben verschiedene Optionen: Dirndl oder Trachtenkleid sind beliebt, oft mit einer Schürze und einer passenden Bluse darunter. Dazu werden traditionell Trachtenschuhe oder Ballerinas getragen. Es ist auch üblich, eine traditionelle Trachtenjacke oder eine Strickjacke zu tragen, da es auf dem Oktoberfest manchmal kühl werden kann. Es ist wichtig, dass die Kleidung bequem ist, da das Fest oft viele Stunden dauert und viel Bewegung beinhaltet.')"
      ]
     },
     "execution_count": 53,
     "metadata": {},
     "output_type": "execute_result"
    }
   ],
   "source": [
    "chat(\n",
    "    [\n",
    "        SystemMessage(content=\"Answer in German.\"),\n",
    "        HumanMessage(content=\"When is the Oktoberfest in Munich usually?\"),\n",
    "        AIMessage(content='The Oktoberfest in Munich usually begins in late September and lasts for 16-18 days, ending on the first Sunday in October or on October 3rd, German Unity Day, if it falls on a Monday.'),\n",
    "        HumanMessage(content=\"And do you have recommendattions what to wear?\"),\n",
    "    ]\n",
    ")"
   ]
  },
  {
   "cell_type": "markdown",
   "id": "edcae685",
   "metadata": {},
   "source": [
    "### 2. Documents\n",
    "\n",
    "<div class=\"alert alert-info\">\n",
    "  <b>Document</b>\n",
    "  <p>An object that holds the content of your document (text) and metadata (more information about that text)..</p>\n",
    "</div>"
   ]
  },
  {
   "cell_type": "code",
   "execution_count": 61,
   "id": "8be17d30",
   "metadata": {},
   "outputs": [],
   "source": [
    "from langchain.schema import Document\n",
    "from langchain.document_loaders import PyPDFLoader\n",
    "\n",
    "pdf_path = \"static/Business_Model_Canvas.pdf\""
   ]
  },
  {
   "cell_type": "code",
   "execution_count": 76,
   "id": "f3d832b7",
   "metadata": {},
   "outputs": [
    {
     "data": {
      "text/plain": [
       "Document(page_content='Lorem ipsum dolor sit amet, consectetur adipiscing elit. Nulla euismod, nisl eget aliquam ultricies, nunc nisl aliquet nunc, quis aliqu.', metadata={'document_id': 23502, 'source': 'Example Document', 'create_time': '2021-01-01 12:00:00'})"
      ]
     },
     "execution_count": 76,
     "metadata": {},
     "output_type": "execute_result"
    }
   ],
   "source": [
    "Document(page_content=\"Lorem ipsum dolor sit amet, consectetur adipiscing elit. Nulla euismod, nisl eget aliquam ultricies, nunc nisl aliquet nunc, quis aliqu.\",\n",
    "         metadata={\n",
    "             'document_id' : 23502,\n",
    "             'source' : \"Example Document\",\n",
    "             'create_time' : \"2021-01-01 12:00:00\"\n",
    "         })"
   ]
  },
  {
   "cell_type": "markdown",
   "id": "2c28346f",
   "metadata": {},
   "source": [
    "Now let's load a pdf document: The Wikipedia article on the Business Model Canvas. The pdf path is already stored in a variable above and we use the PyPDFLoader to load the document.\n",
    "\n",
    "\n",
    "<div class=\"alert alert-warning\">\n",
    "  <p>Remember how documents are handled and loaded for later!</p>\n",
    "</div>"
   ]
  },
  {
   "cell_type": "code",
   "execution_count": 71,
   "id": "13bd50c2",
   "metadata": {},
   "outputs": [
    {
     "data": {
      "text/plain": [
       "[Document(page_content='Business Model Canvas: nine business model building\\nblocks[1]Business Model Canvas\\nThe Business Model Canvas is a strategic\\nmanagement template used for developing new\\nbusiness models and documenting existing\\nones.[2][3] It offers a visual chart with elements\\ndescribing a firm\\'s or produc t\\'s value\\nproposition,[4] infrastructure, customers, and\\nfinances,[1] assisting businesses to align their\\nactivities by illustrating pot ential trade-offs.\\nThe nine \"building blocks\" of the business model\\ndesign template that came to be called the\\nBusiness Model Canvas were initially proposed in\\n2005 by Alexander Osterwalder,[5] based on his\\nPhD work supervised by Yves Pigneur on\\nbusiness model ontology.[6] Since the release of\\nOsterwalder\\'s work around 2008,[7] the authors\\nhave developed related tools such as the Value\\nProposition C anvas and the Culture Map,[8] and ne w canvases for specific niches have also appeared.\\nFormal descriptions of the business become the building blocks for its activities. Many different business\\nconceptualizations exist; Osterwalder\\'s 2004 thesis[6] and co-authored 2010 book[1] propose a single\\nreference model based on the similarities of a wide range of business model conceptualizations. With his\\nbusiness model design template, an enterprise can easily describe its business model.\\nOsterwalder\\'s canvas has nine boxe s: customer segments, value propositions, channels, customer\\nrelationships, revenue streams, key resources, key activities, key partnerships, and cost structure.[1]: 16–17 \\nDescriptions below are based largely on t he 2010 book Business Model Generation.[1]: 20–41 \\nInfrastructure\\nKey activities: The most important activities in executing a company\\'s value proposition.\\nAn example for Bic, the pen manufacturer, would be creating an efficient supply chain to\\ndrive down costs.\\nKey resources: The resources that are necessary to create value for the customer. They\\nare considered assets to a company that are needed to sustain and support the\\nbusiness. These resources could be human, financial, physical and intellectual.\\nPartner network: In order to optimize operations and reduce risks of a business model,\\norganizations usually cultivate buyer-supplier relationships so they can focus on their\\ncore activity. Complementary business alliances also can be considered through joint\\nventures or strategic alliances between competitors or non-competitors.\\nOffering\\nValue propositions: The collection of products and services a business offers to meet the\\nneeds of its customers. According to Osterwalder,[6] a company\\'s value proposition isDescription', metadata={'source': 'static/Business_Model_Canvas.pdf', 'page': 0}),\n",
       " Document(page_content='what distinguishes it from its competitors. The value proposition provides value through\\nvarious elements such as newness, performance, customization, \"getting the job done\",\\ndesign, brand/status, price, cost reduction, risk reduction, accessibility, and\\nconvenience/usability.\\nThe value propositions may be:\\nQuantitative – price and efficiency\\nQualitative – overall customer experience and outcome\\nCustomers\\nCustomer segments: To build an effective business model, a company must identify\\nwhich customers it tries to serve. Various sets of customers can be segmented based on\\ntheir different needs and attributes to ensure appropriate implementation of corporate\\nstrategy to meet the characteristics of selected groups of clients. The different types of\\ncustomer segments include:\\nMass market: There is no specific segmentation for a company that follows the mass\\nmarket element as the organization displays a wide view of potential clients: e.g. car.\\nNiche market: Customer segmentation based on specialized needs and\\ncharacteristics of its clients: e.g. Rolex.\\nSegmented: A company applies additional segmentation within existing customer\\nsegment. In the segmented situation, the business may further distinguish its clients\\nbased on gender, age, and/or income.\\nDiversify: A business serves multiple customer segments with different needs and\\ncharacteristics.\\nMulti-sided platform/market: For a smooth day-to-day business operation, some\\ncompanies will serve mutually dependent customer segments. A credit card company\\nwill provide services to credit card holders while simultaneously assisting merchants\\nwho accept those credit cards.\\nChannels: A company can deliver its value proposition to its targeted customers through\\ndifferent channels. Effective channels will distribute a company\\'s value proposition in\\nways that are fast, efficient and cost-effective. An organization can reach its clients\\nthrough its own channels (store front), partner channels (major distributors), or a\\ncombination of both.\\nCustomer relationships: To ensure the survival and success of any businesses,\\ncompanies must identify the type of relationship they want to create with their customer\\nsegments. That element should address three critical steps of a customer\\'s relationship:\\nHow the business will get new customers, how the business will keep customers\\npurchasing or using its services and how the business will grow its revenue from its\\ncurrent customers. Various forms of customer relationships include:\\nPersonal assistance: Assistance in a form of employee-customer interaction. Such\\nassistance is performed during sales and/or after sales.\\nDedicated personal assistance: The most intimate and hands-on personal\\nassistance in which a sales representative is assigned to handle all the needs and\\nquestions of a special set of clients.\\nSelf service: The type of relationship that translates from the indirect interaction\\nbetween the company and the clients. Here, an organization provides the tools\\nneeded for the customers to serve themselves easily and effectively.\\nAutomated services: A system similar to self-service but more personalized as it has\\nthe ability to identify individual customers and their preferences. An example of this\\nwould be Amazon.com making book suggestions based on the characteristics of\\nprevious book purchases.', metadata={'source': 'static/Business_Model_Canvas.pdf', 'page': 1}),\n",
       " Document(page_content=\"Communities: Creating a community allows for direct interactions among different\\nclients and the company. The community platform produces a scenario where\\nknowledge can be shared and problems are solved between different clients.\\nCo-creation: A personal relationship is created through the customer's direct input to\\nthe final outcome of the company's products/services.\\nFinances\\nCost structure: This describes the most important monetary consequences while\\noperating under different business models.\\nClasses of business structures:\\nCost-driven – This business model focuses on minimizing all costs and having\\nno frills: e.g. low-cost airlines.\\nValue-driven – Less concerned with cost, this business model focuses on\\ncreating value for products and services: e.g. Louis Vuitton, Rolex.\\nCharacteristics of cost structures:\\nFixed costs – Costs are unchanged across different applications: e.g. salary, rent.\\nVariable costs – Costs vary depending on the amount of production of goods or\\nservices: e.g. music festivals.\\nEconomies of scale – Costs go down as the amount of goods are ordered or\\nproduced.\\nEconomies of scope – Costs go down due to incorporating other businesses\\nwhich have a direct relation to the original product.\\nRevenue streams: The way a company makes income from each customer segment.\\nSeveral ways to generate a revenue stream:\\nAsset sale – (the most common type) Selling ownership rights to a physical good:\\ne.g. retail corporations.\\nUsage fee – Money generated from the use of a particular service: e.g. UPS.\\nSubscription fees – Revenue generated by selling access to a continuous service:\\ne.g. Netflix.\\nLending/leasing/renting – Giving exclusive right to an asset for a particular period of\\ntime: e.g. leasing a car.\\nLicensing – Revenue generated from charging for the use of a protected intellectual\\nproperty.\\nBrokerage fees – Revenue generated from an intermediate service between 2\\nparties: e.g. broker selling a house for commission.\\nAdvertising – Revenue generated from charging fees for product advertising.\\nThe Business Model Canvas can be printed out on a large surface so that groups  of people can jointly start\\nsketching and discussing business model elements with post-it notes or board markers. It is a hands-on tool\\nthat aims to foster unde rstanding, discussion, creativity, and analysis. It is distributed unde r a Creative\\nCommons license[9] from Strategyzer AG and can be used without any restrictions for modeling\\nbusinesses. It is also available in web-based software format.Application\\nAlternative forms\", metadata={'source': 'static/Business_Model_Canvas.pdf', 'page': 2}),\n",
       " Document(page_content='The Business Model Canvas has been used and adapted to suit specific business scenarios and\\napplications,[10][11] such as Ash Maurya\\'s Lean Canvas for startup companies.[12]\\nThe Business Model Canvas has been characterized as static because it does not capture changes in strategy\\nor the evolution of the model[13] nor much detail about the interaction between the compone nts and how\\nthis makes the model work.[14] Some limits of the template are its focus on or ganizations and its consequent\\nconceptual isolation from its environment, whether this is related to the industry structure[15] or to\\nstakeholders such as society and na tural environment.[16][17]\\nBusiness process modeling\\nBusiness plan\\nBusiness reference model\\nMinimum viable product § Business Model Canvas\\nProduct/market fit\\nUnique selling proposition\\n1. Osterwalder, Alexander; Pigneur, Yves; Clark, Tim (2010). Business Model Generation: A\\nHandbook For Visionaries, Game Changers, and Challengers (http://www.businessmodelge\\nneration.com/). Strategyzer series. Hoboken, NJ: John Wiley & Sons.\\nISBN 9780470876411. OCLC 648031756 (https://www.worldcat.org/oclc/648031756). With\\ncontributions from 470 practitioners from 45 countries.\\n2. Barquet, Ana Paula B., et al. \"Business model elements for product-service system\".\\nFunctional Thinking for Value Creation. Springer Berlin Heidelberg, 2011. 332–337: They\\nstated that \"The Canvas business model was applied and tested in many organizations (eg\\nIBM and Ericsson), being successfully used to easily describe and manipulate business\\nmodels to create new strategic alternatives.\"\\n3. De Reuver, Mark, Harry Bouwman, and Timber Haaker. \"Business model roadmapping: A\\npractical approach to come from an existing to a desired business model\". International\\nJournal of Innovation Management 17.01 (2013): They described the business model\\ncanvas as the \"Most prominent... popular tool that makes it simple for practitioners to design\\nbusiness models in a creative session.\"\\n4. Project Management Institute 2021, Glossary §3 Definitions.\\n5. Osterwalder, Alexander (2005-11-05). \"What is a business model?\" (https://web.archive.org/\\nweb/20061213141941/http://business-model-design.blogspot.com/2005/11/what-is-busines\\ns-model.html). business-model-design.blogspot.com. Archived from the original (http://busin\\ness-model-design.blogspot.com/2005/11/what-is-business-model.html) on 2006-12-13.\\nRetrieved 2019-06-19. \"... we could define a business model as a simplified description of\\nhow a company does business without having to go into the complex details of all its\\nstrategy, processes, units, rules, hierarchies, workflows, and systems. However, now that we\\nknow that the business model is a simplified representation of how we do business, we still\\nhave to decide which elements to describe. A synthesis of literature shows that there are\\nmainly 9 building blocks to help us describe a business model ...\"Criticism\\nSee also\\nCitations', metadata={'source': 'static/Business_Model_Canvas.pdf', 'page': 3}),\n",
       " Document(page_content='6. Osterwalder, Alexander (2004). The Business Model Ontology: A Proposition In A Design\\nScience Approach (http://www.hec.unil.ch/aosterwa/PhD/Osterwalder_PhD_BM_Ontology.p\\ndf) (PDF) (Ph.D. thesis). Lausanne: University of Lausanne. OCLC 717647749 (https://www.\\nworldcat.org/oclc/717647749). See also: Osterwalder, Alexander; Pigneur, Yves; Tucci,\\nChristopher L. (2005). \"Clarifying business models: origins, present, and future of the\\nconcept\" (https://doi.org/10.17705%2F1CAIS.01601). Communications of the Association for\\nInformation Systems. 1 6 (1): 1. doi:10.17705/1CAIS.01601 (https://doi.org/10.17705%2F1CA\\nIS.01601).\\n7. Osterwalder, Alexander (2008-07-02). \"What is a business model?\" (https://web.archive.org/\\nweb/20080906034734/http://business-model-design.blogspot.com/2008/07/what-is-busines\\ns-model.html). business-model-design.blogspot.com. Archived from the original (http://busin\\ness-model-design.blogspot.com/2008/07/what-is-business-model.html) on 2008-09-06.\\nRetrieved 2018-10-17.\\n8. Carton, Guillaume (2021-08-02). \"The Story Behind the Business Model Canvas\" (https://eie\\nxchange.com/content/the-story-behind-the-business-model-canvas). Entrepreneur &\\nInnovation Exchange.\\n9. \"Can I use the Business Model Canvas or Value Proposition Canvas in my own teachings or\\npublic projects?\" (http://support.strategyzer.com/knowledgebase/articles/506842-business-m\\nodel-canvas-and-value-proposition-canvas). support.strategyzer.com. Retrieved 2015-03-22.\\n10. Bovée, Courtland L.; Thill, John V. (2017). Business in Action (https://archive.org/details/busi\\nnessinaction0008bove) (8th ed.). Boston: Pearson Education. p. 130 (https://archive.org/deta\\nils/businessinaction0008bove/page/130). ISBN 9780134129952. OCLC 920966827 (https://\\nwww.worldcat.org/oclc/920966827). \"Two popular alternatives to conventional business\\nplans are high-level overviews known as the Business Model Canvas and the Lean\\nCanvas.\"\\n11. Layton, Mark C.; Ostermiller, Steven J. (2020). Agile Project Management. For Dummies\\n(3rd ed.). Indianapolis: John Wiley & Sons. p. 72 (https://books.google.com/books?id=_Pn6\\nDwAAQBAJ&pg=PA72). ISBN 9781119676997. OCLC 1125023274 (https://www.worldcat.o\\nrg/oclc/1125023274). \"Many variations of canvases are available, such as a lean canvas or\\na business opportunity canvas.\"\\n12. Maurya, Ash (2012). Running Lean: Iterate From Plan A to a Plan That Works (https://archiv\\ne.org/details/runningleanitera0000maur). The Lean Series (2nd ed.). Sebastopol, CA:\\nO\\'Reilly. p. 5 (https://archive.org/details/runningleanitera0000maur/page/5).\\nISBN 9781449305178. OCLC 759911462 (https://www.worldcat.org/oclc/759911462). \"Lean\\nCanvas is my adaptation of Alex Osterwalder\\'s Business Model Canvas, which he describes\\nin the book Business Model Generation (Wiley).\"\\n13. Sinkovics, Noemi; Sinkovics, Rudolf R.; Yamin, Mo (2014). \"The Role of Social Value\\nCreation in Business Model Formulation at the Bottom of the Pyramid – Implications for\\nMNEs?\" (https://doi.org/10.1016%2Fj.ibusrev.2013.12.004). International Business Review.\\n2 3 (4): 692–707. doi:10.1016/j.ibusrev.2013.12.004 (https://doi.org/10.1016%2Fj.ibusrev.201\\n3.12.004).', metadata={'source': 'static/Business_Model_Canvas.pdf', 'page': 4}),\n",
       " Document(page_content='14. Romero, María Camila; Sánchez, Mario; Villalobos, Jorge (2017). \"Business model loom: a\\npattern-based approach towards the definition of business models\". In Hammoudi, Slimane;\\nMaciaszek, Leszek A.; Missikoff, Michele M.; Camp, Olivier; Cordeiro, José (eds.). Enterprise\\nInformation Systems: 18th International Conference, ICEIS 2016, Rome, Italy, April 25–28,\\n2016, Revised Selected Papers. Lecture Notes in Business Information Processing.\\nVol. 291. Cham: Springer-Verlag. pp. 463–487. doi:10.1007/978-3-319-62386-3_21 (https://d\\noi.org/10.1007%2F978-3-319-62386-3_21). ISBN 9783319623856. OCLC 992990130 (http\\ns://www.worldcat.org/oclc/992990130). \"The critical problem with current business model\\nrepresentations is the focus on a structural dimension (e.g., Osterwalder\\'s Canvas, or\\nGordijn\\'s e3-value). In particular, they leave (mostly) aside the specification of how business\\nmodels components interact and behave in order to make the model work. Therefore, only a\\npartial understanding of the business can be achieved with these business models.\"\\n15. Searle, Nicola; White, Gregor (2013). Towse, Ruth; Handke, Christian (eds.). \"Business\\nModels\". In Handbook on the Digital Creative Economy. Cheltenham, UK and Northampton,\\nMA, USA: Edward Elgar Publishing: 45–56. doi:10.4337/9781781004876.00014 (https://doi.\\norg/10.4337%2F9781781004876.00014). ISBN 9781781004876.\\n16. Bocken, N.M.P.; Rana, P.; Short, S.W. (2015). \"Value mapping for sustainable business\\nthinking\" (https://doi.org/10.1080%2F21681015.2014.1000399). Journal of Industrial and\\nProduction Engineering. 3 2 (1): 67–81. doi:10.1080/21681015.2014.1000399 (https://doi.or\\ng/10.1080%2F21681015.2014.1000399).\\n17. Sparviero, Sergio (2019). \"The Case for a Socially Oriented Business Model Canvas: The\\nSocial Enterprise Model Canvas\" (https://doi.org/10.1080%2F19420676.2018.1541011).\\nJournal of Social Entrepreneurship. 1 0 (2): 232–251. doi:10.1080/19420676.2018.1541011\\n(https://doi.org/10.1080%2F19420676.2018.1541011).\\nProject Management Institute (2021). A guide to the project management body of knowledge\\n(PMBOK guide). Project Management Institute (7th ed.). Newtown Square, PA. ISBN 978-1-\\n62825-664-2.\\n Media related to Business Model Canvas at Wikimedia Commons\\nOfficial website (http://www.businessmodelgeneration.com)\\nMapping Business Models (a Knowledge Game) (http://www.businessmodelalchemist.com/\\n2010/01/mapping-business-models-a-knowledge-game.html)\\nAlexander Osterwalder: Tools for Business Model Generation (https://ecorner.stanford.edu/vi\\ndeos/tools-for-business-model-generation-entire-talk/), a 53-minute video discussing the\\nBusiness Model Canvas in detail. Stanford Entrepreneurship Corner, 26 January 2012\\nRetrieved from \"https://en.wikipedia.org/w/index.php?title=Business_Model_Canvas&oldid=1174240726\"References\\nExternal links\\n', metadata={'source': 'static/Business_Model_Canvas.pdf', 'page': 5})]"
      ]
     },
     "execution_count": 71,
     "metadata": {},
     "output_type": "execute_result"
    }
   ],
   "source": [
    "loader = PyPDFLoader(pdf_path)\n",
    "documents = loader.load()\n",
    "documents"
   ]
  },
  {
   "cell_type": "markdown",
   "id": "6352fdc7",
   "metadata": {},
   "source": [
    "The PDF loader automatically returns a list of Documents, one for each page. There are different loaders for different kinds of data."
   ]
  },
  {
   "cell_type": "code",
   "execution_count": 75,
   "id": "58d67b39",
   "metadata": {},
   "outputs": [
    {
     "name": "stdout",
     "output_type": "stream",
     "text": [
      "Metadata:  {'source': 'static/Business_Model_Canvas.pdf', 'page': 0}\n",
      "Number of characters in first page:  2602\n"
     ]
    }
   ],
   "source": [
    "print(\"Metadata: \", documents[0].metadata)\n",
    "print(\"Number of characters in first page: \", len(documents[0].page_content))"
   ]
  },
  {
   "cell_type": "markdown",
   "id": "2cc7d149",
   "metadata": {},
   "source": [
    "### 3. Models\n",
    "\n",
    "<div class=\"alert alert-info\">\n",
    "  <b>Models</b>\n",
    "  <p>The different model components provide the interface to the foundation models provided by e.g. OpenAI. ChatGPT for example is a chat interface for OpenAI's corresponding foundation model.</p>\n",
    "</div>"
   ]
  },
  {
   "cell_type": "markdown",
   "id": "e53bf5db",
   "metadata": {},
   "source": [
    "#### i) Language model"
   ]
  },
  {
   "cell_type": "markdown",
   "id": "0a733c84",
   "metadata": {},
   "source": [
    "Most basic setup: Text in  -> text out"
   ]
  },
  {
   "cell_type": "code",
   "execution_count": 77,
   "id": "ef35746d",
   "metadata": {},
   "outputs": [],
   "source": [
    "from langchain.llms import OpenAI\n",
    "\n",
    "llm = OpenAI(model_name=\"text-ada-001\", openai_api_key=openai_api_key)"
   ]
  },
  {
   "cell_type": "code",
   "execution_count": 78,
   "id": "4db8e39b",
   "metadata": {},
   "outputs": [
    {
     "data": {
      "text/plain": [
       "'\\n\\nSaturday'"
      ]
     },
     "execution_count": 78,
     "metadata": {},
     "output_type": "execute_result"
    }
   ],
   "source": [
    "llm(\"After Friday comes ...\")"
   ]
  },
  {
   "cell_type": "markdown",
   "id": "41879361",
   "metadata": {},
   "source": [
    "#### ii) Chat model"
   ]
  },
  {
   "cell_type": "markdown",
   "id": "5fa376c2",
   "metadata": {},
   "source": [
    "Takes a series of messages and returns a message output. See above example with list of messages."
   ]
  },
  {
   "cell_type": "code",
   "execution_count": 2,
   "id": "adab2fc7",
   "metadata": {},
   "outputs": [],
   "source": [
    "from langchain.chat_models import ChatOpenAI\n",
    "from langchain.schema import HumanMessage, SystemMessage, AIMessage\n",
    "\n",
    "chat = ChatOpenAI(temperature=.7, openai_api_key=openai_api_key)"
   ]
  },
  {
   "cell_type": "code",
   "execution_count": 4,
   "id": "f7a841cc",
   "metadata": {},
   "outputs": [
    {
     "data": {
      "text/plain": [
       "AIMessage(content=\"I could, but I won't.\")"
      ]
     },
     "execution_count": 4,
     "metadata": {},
     "output_type": "execute_result"
    }
   ],
   "source": [
    "chat(\n",
    "    [\n",
    "        SystemMessage(content=\"Be an unhelpful chat bot and annoy your conversation partner. Answer in one sentence.\"),\n",
    "        HumanMessage(content=\"Give me book recommnendations on marketing.\")\n",
    "    ]\n",
    ")"
   ]
  },
  {
   "cell_type": "markdown",
   "id": "96ba939e",
   "metadata": {},
   "source": [
    "#### iii) Text embedding model"
   ]
  },
  {
   "cell_type": "code",
   "execution_count": 5,
   "id": "1d617651",
   "metadata": {},
   "outputs": [],
   "source": [
    "from langchain.embeddings import OpenAIEmbeddings\n",
    "\n",
    "embeddings = OpenAIEmbeddings(openai_api_key=openai_api_key)"
   ]
  },
  {
   "cell_type": "code",
   "execution_count": 6,
   "id": "3350a5f3",
   "metadata": {},
   "outputs": [],
   "source": [
    "text = \"Give me book recommnendations on marketing.\""
   ]
  },
  {
   "cell_type": "markdown",
   "id": "b603d776",
   "metadata": {},
   "source": [
    "<div class=\"alert alert-info\">\n",
    "  <b>Embeddings</b>\n",
    "  <p>Embeddings are a way to represent text as a vector of numbers. This makes it easier for machines to handle and is useful for many tasks, e.g. efficiently to compare two texts or to find similar texts.</p>\n",
    "</div>"
   ]
  },
  {
   "cell_type": "code",
   "execution_count": 8,
   "id": "9000b820",
   "metadata": {},
   "outputs": [
    {
     "name": "stdout",
     "output_type": "stream",
     "text": [
      "Here's a sample: [-0.012041630138112876, -0.02553390495978387, -0.02125899686746282, -0.007805235956290973, -0.00048341432114007974]...\n",
      "Your embedding vector is of length 1536\n"
     ]
    }
   ],
   "source": [
    "text_embedding = embeddings.embed_query(text)\n",
    "print (f\"Here's a sample: {text_embedding[:5]}...\")\n",
    "print (f\"Your embedding vector is of length {len(text_embedding)}\")"
   ]
  },
  {
   "cell_type": "markdown",
   "id": "384ede19-bc8a-4294-9a83-3b95c803a89f",
   "metadata": {},
   "source": [
    "## More ressources"
   ]
  },
  {
   "cell_type": "markdown",
   "id": "1883673e-bbf8-46f3-aab8-7478dd9899fe",
   "metadata": {},
   "source": [
    "- Documentation: https://python.langchain.com/docs/get_started/introduction\n",
    "- Really comprehensive tutorials: https://github.com/gkamradt/langchain-tutorials"
   ]
  },
  {
   "cell_type": "code",
   "execution_count": null,
   "id": "182e0348-a6f1-469b-b040-cc4d0c5d2c1e",
   "metadata": {},
   "outputs": [],
   "source": []
  }
 ],
 "metadata": {
  "kernelspec": {
   "display_name": "Python 3 (ipykernel)",
   "language": "python",
   "name": "python3"
  },
  "language_info": {
   "codemirror_mode": {
    "name": "ipython",
    "version": 3
   },
   "file_extension": ".py",
   "mimetype": "text/x-python",
   "name": "python",
   "nbconvert_exporter": "python",
   "pygments_lexer": "ipython3",
   "version": "3.10.10"
  }
 },
 "nbformat": 4,
 "nbformat_minor": 5
}
